{
  "nbformat": 4,
  "nbformat_minor": 0,
  "metadata": {
    "kernelspec": {
      "display_name": "Python 3",
      "language": "python",
      "name": "python3"
    },
    "language_info": {
      "codemirror_mode": {
        "name": "ipython",
        "version": 3
      },
      "file_extension": ".py",
      "mimetype": "text/x-python",
      "name": "python",
      "nbconvert_exporter": "python",
      "pygments_lexer": "ipython3",
      "version": "3.8.2"
    },
    "colab": {
      "name": "python-basics-CE357.ipynb",
      "provenance": []
    }
  },
  "cells": [
    {
      "cell_type": "markdown",
      "metadata": {
        "id": "HYw7gSpctG_t",
        "colab_type": "text"
      },
      "source": [
        "# Python basics\n",
        "\n",
        "We can use Python like a calculator. Consider the simple expression $3 + 8$. We can evaluate and print this by:"
      ]
    },
    {
      "cell_type": "code",
      "metadata": {
        "id": "Dj_qBWz3tG_u",
        "colab_type": "code",
        "colab": {
          "base_uri": "https://localhost:8080/",
          "height": 34
        },
        "outputId": "11e7638f-0800-411b-f1cf-468273f1d116"
      },
      "source": [
        "3 + 8"
      ],
      "execution_count": 1,
      "outputs": [
        {
          "output_type": "execute_result",
          "data": {
            "text/plain": [
              "11"
            ]
          },
          "metadata": {
            "tags": []
          },
          "execution_count": 1
        }
      ]
    },
    {
      "cell_type": "markdown",
      "metadata": {
        "id": "mQzzhhGMtG_5",
        "colab_type": "text"
      },
      "source": [
        "To `print` an output use `print()`. To print \"Hi\":"
      ]
    },
    {
      "cell_type": "code",
      "metadata": {
        "id": "X_Vv1pmYtG_8",
        "colab_type": "code",
        "colab": {
          "base_uri": "https://localhost:8080/",
          "height": 34
        },
        "outputId": "a06998cb-3449-4668-c8d3-35edf335b873"
      },
      "source": [
        "print(\"Hi\")"
      ],
      "execution_count": 2,
      "outputs": [
        {
          "output_type": "stream",
          "text": [
            "Hi\n"
          ],
          "name": "stdout"
        }
      ]
    },
    {
      "cell_type": "markdown",
      "metadata": {
        "id": "2R6zhPkytHAE",
        "colab_type": "text"
      },
      "source": [
        "# Variables and assignment\n",
        "\n",
        "The above code snippets were helpful for doing some arithmetic, but we could easily do the same with a pocket calculator. Also, the snippets are not very helpful if we want to change the value of one of the numbers in an expression, and not very helpful if we wanted to use the value of the expression in a subsequent computation. To improve things, we need *assignment*.\n",
        "\n",
        "When we compute something, we usually want to store the result so that we can use it in subsequent computations. *Variables* are what we use to store something, e.g.:"
      ]
    },
    {
      "cell_type": "code",
      "metadata": {
        "id": "TvJGznZntHAG",
        "colab_type": "code",
        "colab": {
          "base_uri": "https://localhost:8080/",
          "height": 34
        },
        "outputId": "b089fcc3-7b70-4138-bbdd-a64f71cac01d"
      },
      "source": [
        "c = 10\n",
        "print(c)"
      ],
      "execution_count": 3,
      "outputs": [
        {
          "output_type": "stream",
          "text": [
            "10\n"
          ],
          "name": "stdout"
        }
      ]
    },
    {
      "cell_type": "markdown",
      "metadata": {
        "id": "i0Fdxf0DtHAL",
        "colab_type": "text"
      },
      "source": [
        "Above, the variable `c` is used to 'hold' the value `10`. The function `print` is used to print the value of a variable to the output (more on functions later).\n",
        "\n",
        "Say we want to compute $c = a + b$, where $a = 2$ and $b = 11$:"
      ]
    },
    {
      "cell_type": "code",
      "metadata": {
        "id": "61LwPR9HtHAM",
        "colab_type": "code",
        "colab": {
          "base_uri": "https://localhost:8080/",
          "height": 34
        },
        "outputId": "d3640885-b2c7-4e18-e414-34be38345cc6"
      },
      "source": [
        "a = 2\n",
        "b = 11\n",
        "c = a + b\n",
        "print(c)"
      ],
      "execution_count": 4,
      "outputs": [
        {
          "output_type": "stream",
          "text": [
            "13\n"
          ],
          "name": "stdout"
        }
      ]
    },
    {
      "cell_type": "markdown",
      "metadata": {
        "id": "p6BZmh5MtHAS",
        "colab_type": "text"
      },
      "source": [
        "Above, the variable `c` is used to 'hold' the value `10`. The function `print` is used to print the value of a variable to the output (more on functions later).\n",
        "\n",
        "Say we want to compute $c = a + b$, where $a = 2$ and $b = 11$:"
      ]
    },
    {
      "cell_type": "markdown",
      "metadata": {
        "id": "2L7_oj9mtHAT",
        "colab_type": "text"
      },
      "source": [
        "# Booleans\n",
        "\n",
        "Before starting with control statements, we need to introduce booleans.\n",
        "A Boolean is a type of variable that can take on one of two values - true or false."
      ]
    },
    {
      "cell_type": "code",
      "metadata": {
        "id": "LvpEK3rWtHAU",
        "colab_type": "code",
        "colab": {
          "base_uri": "https://localhost:8080/",
          "height": 52
        },
        "outputId": "18d3b822-c7ab-428a-8a6f-cb3b2e62b8a3"
      },
      "source": [
        "a = True\n",
        "print(a)\n",
        "\n",
        "a = False\n",
        "print(a)"
      ],
      "execution_count": 5,
      "outputs": [
        {
          "output_type": "stream",
          "text": [
            "True\n",
            "False\n"
          ],
          "name": "stdout"
        }
      ]
    },
    {
      "cell_type": "markdown",
      "metadata": {
        "id": "8Kiqo_x4tHAb",
        "colab_type": "text"
      },
      "source": [
        "Booleans are used extensively in control statements."
      ]
    },
    {
      "cell_type": "markdown",
      "metadata": {
        "id": "WUdiVwV7tHAc",
        "colab_type": "text"
      },
      "source": [
        "# Comparison operators\n",
        "\n",
        "We often want to check in a program how two variables are related to each other, for example if one is less than the other, or if two variables are equal. We do this with 'comparison operators', such as `<`, `<=`, `>`, `>=` and `==`. \n",
        "\n",
        "Below is an example checking if a number `a` is less than or greater than a number `b`:"
      ]
    },
    {
      "cell_type": "code",
      "metadata": {
        "id": "1L-Xcx-ytHAc",
        "colab_type": "code",
        "colab": {
          "base_uri": "https://localhost:8080/",
          "height": 52
        },
        "outputId": "af6076d9-9d9b-4abb-f3a6-a288bdf702a6"
      },
      "source": [
        "a = 10.0\n",
        "b = 9.9\n",
        "c = a < b\n",
        "d = a > b\n",
        "print(c)\n",
        "print(d)"
      ],
      "execution_count": 6,
      "outputs": [
        {
          "output_type": "stream",
          "text": [
            "False\n",
            "True\n"
          ],
          "name": "stdout"
        }
      ]
    },
    {
      "cell_type": "markdown",
      "metadata": {
        "id": "kVJFtEp9tHAg",
        "colab_type": "text"
      },
      "source": [
        "Equality is checked using '`==`', and '`!=`' is used to test if two variables are not equal. Below are some examples to read through."
      ]
    },
    {
      "cell_type": "code",
      "metadata": {
        "id": "yvO6RHtBtHAh",
        "colab_type": "code",
        "colab": {
          "base_uri": "https://localhost:8080/",
          "height": 225
        },
        "outputId": "cf603a94-a2ff-4404-816a-6d4fa34a0728"
      },
      "source": [
        "a = 14\n",
        "b = -9\n",
        "c = 14\n",
        "\n",
        "# Check if a is equal to b \n",
        "print(\"Is a equal to b?\")\n",
        "print(a == b)\n",
        "\n",
        "# Check if a is equal to c \n",
        "print(\"Is a equal to c?\")\n",
        "print(a == c)\n",
        "\n",
        "# Check if a is not equal to c \n",
        "print(\"Is a not equal to c?\")\n",
        "print(a != c)\n",
        "\n",
        "# Check if a is less than or equal to b \n",
        "print(\"Is a less than or equal to b?\")\n",
        "print(a <= b)\n",
        "\n",
        "# Check if a is less than or equal to c \n",
        "print(\"Is a less than or equal to c?\")\n",
        "print(a <= c)\n",
        "\n",
        "# Check if two colours are the same\n",
        "color0 = 'blue'\n",
        "color1 = 'green'\n",
        "print(\"Is color0 the same as colour1?\")\n",
        "print(color0 == color1)"
      ],
      "execution_count": 7,
      "outputs": [
        {
          "output_type": "stream",
          "text": [
            "Is a equal to b?\n",
            "False\n",
            "Is a equal to c?\n",
            "True\n",
            "Is a not equal to c?\n",
            "False\n",
            "Is a less than or equal to b?\n",
            "False\n",
            "Is a less than or equal to c?\n",
            "True\n",
            "Is color0 the same as colour1?\n",
            "False\n"
          ],
          "name": "stdout"
        }
      ]
    },
    {
      "cell_type": "markdown",
      "metadata": {
        "id": "qLcusvA1tHAm",
        "colab_type": "text"
      },
      "source": [
        "# Boolean operators\n",
        "\n",
        "In the above we have only used one comparison at a time. Boolean operators allow us to 'string' together multiple checks using the operators '`and`', '`or`' and '`not`'.\n",
        "The operators '`and`' and '`or`' take a boolean on either side, and the code\n",
        "```python\n",
        "X and Y\n",
        "```\n",
        "will evaluate to `True` if `X` *and* `Y` are both true, and otherwise will evaluate to `False`. The code\n",
        "```python\n",
        "X or Y\n",
        "```\n",
        "will evaluate to `True` if `X` *or* `Y` is true, and otherwise will evaluate to `False`.\n",
        "Here are some examples:"
      ]
    },
    {
      "cell_type": "code",
      "metadata": {
        "id": "7i5E0l1ZtHAm",
        "colab_type": "code",
        "colab": {
          "base_uri": "https://localhost:8080/",
          "height": 34
        },
        "outputId": "5430cb5f-9328-4e1a-f5dd-1cc4bac888ca"
      },
      "source": [
        "# If 10 < 9 (false) and 15 < 20 (true) -> false\n",
        "print(10 < 9 and 15 < 20)"
      ],
      "execution_count": 8,
      "outputs": [
        {
          "output_type": "stream",
          "text": [
            "False\n"
          ],
          "name": "stdout"
        }
      ]
    },
    {
      "cell_type": "code",
      "metadata": {
        "id": "22ny7aOvtHAr",
        "colab_type": "code",
        "colab": {
          "base_uri": "https://localhost:8080/",
          "height": 34
        },
        "outputId": "5d37e23c-310f-465c-ea49-4b69f7aa2211"
      },
      "source": [
        "# Check if 10 < 9 (false) or 15 < 20 (true) -> true\n",
        "print(10 < 9 or 15 < 20)"
      ],
      "execution_count": 9,
      "outputs": [
        {
          "output_type": "stream",
          "text": [
            "True\n"
          ],
          "name": "stdout"
        }
      ]
    },
    {
      "cell_type": "markdown",
      "metadata": {
        "id": "m6TK0SUntHAw",
        "colab_type": "text"
      },
      "source": [
        "## Multiple comparison operators\n",
        "\n",
        "The examples so far use at most two comparison operators. In some cases we might want to perform more checks. We can control the order of evaluation using brackets. For example, if we want to check if a number is strictly between 100 and 200, or between 10 and 50:"
      ]
    },
    {
      "cell_type": "code",
      "metadata": {
        "id": "w-KMXZDZtHAw",
        "colab_type": "code",
        "colab": {
          "base_uri": "https://localhost:8080/",
          "height": 34
        },
        "outputId": "341ed877-5e01-4ef7-b61b-4e42bd1bed50"
      },
      "source": [
        "value = 150.5\n",
        "print ((value > 100 and value < 200) or (value > 10 and value < 50)) "
      ],
      "execution_count": 10,
      "outputs": [
        {
          "output_type": "stream",
          "text": [
            "True\n"
          ],
          "name": "stdout"
        }
      ]
    },
    {
      "cell_type": "markdown",
      "metadata": {
        "id": "ixZiY-a6tHA1",
        "colab_type": "text"
      },
      "source": [
        "The two checks in the brackets are evaluated first (each evaluates to `True` or `False`), and then the '`or`' checks if one of the two is true."
      ]
    },
    {
      "cell_type": "markdown",
      "metadata": {
        "id": "N-w5qbVgtHA2",
        "colab_type": "text"
      },
      "source": [
        "## `if` statements\n",
        "\n",
        "Below is a simple example that demonstrates the Python syntax for an if-else control statement. \n",
        "\n",
        "Let's say we want to write a code to prints whether a number is positive, negative, or zero."
      ]
    },
    {
      "cell_type": "code",
      "metadata": {
        "id": "b9pxpa5wtHA3",
        "colab_type": "code",
        "colab": {
          "base_uri": "https://localhost:8080/",
          "height": 34
        },
        "outputId": "123880a6-eb9f-4a1d-99c6-9086866bec2a"
      },
      "source": [
        "number = 5\n",
        "\n",
        "if number > 0:\n",
        "  print(\"number\",number,\"is positive\")\n",
        "elif number < 0:\n",
        "  print(\"number\",number,\"is negative\")\n",
        "else:\n",
        "  print(\"number\",number,\"is zero\")"
      ],
      "execution_count": 11,
      "outputs": [
        {
          "output_type": "stream",
          "text": [
            "number 5 is positive\n"
          ],
          "name": "stdout"
        }
      ]
    }
  ]
}